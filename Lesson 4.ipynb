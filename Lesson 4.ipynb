{
 "cells": [
  {
   "cell_type": "markdown",
   "metadata": {
    "id": "1xtwofD9eamQ"
   },
   "source": [
    "<img src=\"https://tinyurl.com/k2t79s6t\" style=\"float: left; margin: 20px; height: 55px\">\n",
    " \n",
    "# Data Visualization\n",
    "\n",
    "_Author: Christopher Chan_"
   ]
  },
  {
   "cell_type": "markdown",
   "metadata": {
    "id": "1ND9d_CFeamW"
   },
   "source": [
    "### Objective\n",
    "\n",
    "Upon completion of this lesson you should be able to understand the following:\n",
    "\n",
    "1. Utilize common charts and graphs\n",
    "2. Understanding underlying conditions to graphs\n",
    "3. Aesthetics\n",
    "\n",
    "Visualization is an important piece in analysis. It helps condense and summarize information quickly and easily. It may help identify possible trends easily whereas it may not be as obvious when just presented just a series of numbers as an example.\n",
    "\n",
    "`matplotlib` is a comprehensive library for creating static, animated, and interactive visualizations in Python.\n",
    "\n",
    "- Create publication quality plots.\n",
    "- Make interactive figures that can zoom, pan, update.\n",
    "- Customize visual style and layout.\n",
    "- Export to many file formats.\n",
    "- Embed in JupyterLab and Graphical User Interfaces.\n",
    "- Use a rich array of third-party packages built on Matplotlib."
   ]
  },
  {
   "cell_type": "markdown",
   "metadata": {
    "id": "QGtgriqQeamX"
   },
   "source": [
    "## Types of common charts / plots\n",
    "\n",
    "In this lesson we will cover some commonly used graphs and charts. This list includes the following:\n",
    "\n",
    "- line graphs\n",
    "- scatter plots\n",
    "- pie charts\n",
    "- bar graphs\n",
    "- histograms\n",
    "\n",
    "There are many other types of visualization tools that you may encounter such as box plots or confusion matrices etc but we will only cover the basics for now. There are also other commonly used visualization libraries such as `seaborn` as well as other visualization tools like `tableau` and `power BI` but we will stick with python and the `matplotlib` library for this lesson.\n",
    "\n",
    "##### =================================================================================================="
   ]
  },
  {
   "cell_type": "markdown",
   "metadata": {
    "id": "Om1VGx52eamY"
   },
   "source": [
    "Use the command below if you do not have `matplotlib` installed.\n",
    "\n",
    "**`pip install matplotlib`**\n",
    "##### =================================================================================================="
   ]
  },
  {
   "cell_type": "code",
   "execution_count": null,
   "metadata": {
    "id": "umafkavaeamY"
   },
   "outputs": [],
   "source": [
    "import pandas as pd\n",
    "import matplotlib.pyplot as plt"
   ]
  },
  {
   "cell_type": "markdown",
   "metadata": {
    "id": "rGUF1w8Jeama"
   },
   "source": [
    "##### ==================================================================================================\n",
    "\n",
    "### Line Graph\n",
    "A line graph is a series of <b>ordered points</b> connected by line segments. Line graphs are often used to visualize a trend in data over time intervals (also known as a time series) and thus the x-axis is often represented in chronological order.\n",
    "\n",
    "Example: We will define two lists of equal length called `x` and `y`. Notice the values in `x` are in chronological order. The function `plt.plot()` is the general syntax to creating a line graph. The two main parameters you must include would be the `x` and `y` values.\n",
    " \n",
    "`plt.title()` adds a title name.\n",
    "\n",
    "`plt.xlabel()` adds a x-label name.\n",
    "\n",
    "`plt.ylabel()` adds a y-label name.\n",
    "\n",
    "`plt.grid()` adds a optional grid.\n",
    "\n",
    "`plt.show()` displays the graph with the applied settings mentioned above."
   ]
  },
  {
   "cell_type": "code",
   "execution_count": null,
   "metadata": {
    "id": "Ipf2L3DLeama"
   },
   "outputs": [],
   "source": [
    "x = [0,1,2,3,4,5]\n",
    "y = [0,1,3,2,4,10]\n",
    "\n",
    "plt.title(\"This is a Line Graph\")\n",
    "plt.ylabel(\"y axis label\")\n",
    "plt.xlabel(\"x axis label\")\n",
    "\n",
    "plt.plot(x,y, color = \"green\")\n",
    "plt.grid()\n",
    "plt.show()"
   ]
  },
  {
   "cell_type": "markdown",
   "metadata": {
    "id": "lrN1TFMueamb"
   },
   "source": [
    "##### ==================================================================================================\n",
    "### Scatter Plot\n",
    "A Scatter Plot creates points and plots them on a cartesian plane that are defined by two columns of data and can be used to visualize the relationship between two variables.\n",
    "\n",
    "Example: We will use the same `x` and `y` lists from the previous example for the line graph. The syntax is exactly the same with the exception of how the function syntax is defined, that being `plt.scatter()`. You will notice the shape of the scatter plot is similar to the previous graph with the exception that there is no line that connects the points. It is also worth noting that scatter plots **do not** require any values to be in chronological order."
   ]
  },
  {
   "cell_type": "code",
   "execution_count": null,
   "metadata": {
    "id": "5tCDbpQPeamc"
   },
   "outputs": [],
   "source": [
    "x = [0,1,2,3,4,5]\n",
    "y = [0,1,3,2,4,10]\n",
    "\n",
    "plt.title(\"This is a Scatter Plot\")\n",
    "plt.ylabel(\"y axis label\")\n",
    "plt.xlabel(\"x axis label\")\n",
    "\n",
    "plt.scatter(x,y, color = \"blue\")\n",
    "plt.grid()\n",
    "plt.show()"
   ]
  },
  {
   "cell_type": "markdown",
   "metadata": {
    "id": "v2tl4Wk4eamd"
   },
   "source": [
    "##### ==================================================================================================\n",
    "### Pie Chart\n",
    "A Pie Chart is a circular and proportional representation of the numerical data that is divided into slices to illustrate numerical proportion. The general syntax to create a pie chart is `plt.pie()`.\n",
    "\n",
    "The required parameter are the values. Optionally you can include the label names with the parameter `labels` and the percentage of the portions of the pie chart with `autopct`.\n",
    "\n",
    "Example: We will create a list of values called `values` and a list of label names called `label_names` and create a pie chart using these two lists."
   ]
  },
  {
   "cell_type": "code",
   "execution_count": null,
   "metadata": {
    "id": "iAFihLomeamd"
   },
   "outputs": [],
   "source": [
    "label_names = ['A','B','C','D','E']\n",
    "values = [50, 30, 85, 100, 40]\n",
    "\n",
    "plt.title(\"This is a Pie Chart\")\n",
    "\n",
    "plt.pie(values, labels = label_names, autopct='%0.1f%%')\n",
    "plt.show()"
   ]
  },
  {
   "cell_type": "markdown",
   "metadata": {
    "id": "KsYTcj8seame"
   },
   "source": [
    "##### ==================================================================================================\n",
    "### Bar Graph\n",
    "A bar plot is a plot that presents categorical data with rectangular bars with lengths proportional to the values that they represent. A bar plot shows comparisons among **<i>discrete / categorical variables<i>**. One axis of the plot shows the specific categories being compared, and the other axis represents a measured value.\n",
    "    \n",
    "Example: We will define `x` as our discrete variables and `y` as the frequency of each element in `x`. The general syntax for a bar graph is `plt.bar()`. It is worth noting that `plt.barh()` is a bar graph rotated clockwise 90 degrees and would produce horizontal bars."
   ]
  },
  {
   "cell_type": "code",
   "execution_count": null,
   "metadata": {
    "id": "KJ4Ju5AAeame"
   },
   "outputs": [],
   "source": [
    "x = ['A','B','C','D','E']\n",
    "y = [50, 30, 85, 100, 40]\n",
    "\n",
    "plt.title(\"This is a Bar Plot\")\n",
    "plt.ylabel(\"y axis label\")\n",
    "plt.xlabel(\"x axis label\")\n",
    "\n",
    "plt.bar(x,y, color = \"purple\",edgecolor = 'black')\n",
    "plt.grid()\n",
    "plt.show()"
   ]
  },
  {
   "cell_type": "markdown",
   "metadata": {
    "id": "Zpj6nTcteamf"
   },
   "source": [
    "##### ==================================================================================================\n",
    "### Histogram Plot/Graph\n",
    "A Histogram plot is a plot consisting of rectangular bars with lengths proportional to the values that they represent. A histogram shows frequency against a **<i>binned continuous variable<i>**. Bins are also called intervals. Each bin is plotted as a bar whose height corresponds to how many data points are in that bin.\n",
    "    \n",
    "Example: We will create an unordered list of arbitrary ages of people called `ages` and create a histogram that shows the frequency count of the ages. The general syntax is `plt.hist()`. "
   ]
  },
  {
   "cell_type": "code",
   "execution_count": null,
   "metadata": {
    "id": "YsKNx32qeamf"
   },
   "outputs": [],
   "source": [
    "ages = [23,54,23,22,43,44,23,18,19,31,77,44,22,55,65,43,22,20,31,57,59,60,62,42,40,20,23,34,21,5,81,89,90]\n",
    "\n",
    "bins = list(range(0,110,10)) \n",
    "#[0,10,20,30,40,50,60,70,80,90,100]\n",
    "\n",
    "plt.title(\"This is a Histogram\")\n",
    "plt.ylabel(\"y axis label\")\n",
    "plt.xlabel(\"x axis label\")\n",
    "\n",
    "plt.hist(ages, bins = bins, color = \"skyblue\", edgecolor = 'black')\n",
    "plt.grid()\n",
    "plt.show()"
   ]
  },
  {
   "cell_type": "markdown",
   "metadata": {
    "id": "ASXzAo9Deamg"
   },
   "source": [
    "##### ==================================================================================================\n",
    "\n",
    "Now that we have covered the basic graphs (Line, Bar, Pie, Scatter and Histograms), We will now apply the plotting techniques to various datasets.\n",
    "\n",
    "Example: We will now load the `walmart.csv` dataset that contains the closing stock prices of Walmart from the year 2019 to 2022 which we will call `walmart`. We want to plot a line graph that shows the relationship of the closing Walmart stock prices over time. We will also use the `.to_datetime()` function to convert the timestamp in the dataset into a standard timestamp format."
   ]
  },
  {
   "cell_type": "code",
   "execution_count": null,
   "metadata": {
    "id": "SnB84M0Beamg"
   },
   "outputs": [],
   "source": [
    "walmart = pd.read_csv('walmart.csv')\n",
    "walmart.head()"
   ]
  },
  {
   "cell_type": "code",
   "execution_count": null,
   "metadata": {
    "id": "YzSHD2hOeamg"
   },
   "outputs": [],
   "source": [
    "plt.title(\"Walmart Inc. Stocks 2019-2022\")\n",
    "plt.ylabel(\"Dollar (USD)\")\n",
    "plt.xlabel(\"Date\")\n",
    "\n",
    "walmart['Date'] = pd.to_datetime(walmart['Date'])\n",
    "\n",
    "plt.plot(walmart['Date'],walmart['Close'])\n",
    "\n",
    "plt.xticks(rotation = 45)\n",
    "plt.grid()\n",
    "plt.show()"
   ]
  },
  {
   "cell_type": "markdown",
   "metadata": {
    "id": "4jMe6-RSeamg"
   },
   "source": [
    "##### ==================================================================================================\n",
    "\n",
    "We will now load the dataset `mcdonalds.csv` which we will call `mcdonalds` that contains McDonalds full menu with nutritional information for each item. The `pd.set_option('display.max_columns', None)` allows us to view all columns in the dataset when we call the `.head()` function to view the dataset. By default the `.head()` function will truncate the number of columns displayed when there are too many columns in the dataset."
   ]
  },
  {
   "cell_type": "code",
   "execution_count": null,
   "metadata": {
    "id": "07QrME_eeamh"
   },
   "outputs": [],
   "source": [
    "mcdonalds = pd.read_csv('mcdonalds.csv')\n",
    "pd.set_option('display.max_columns', None)\n",
    "mcdonalds.head()"
   ]
  },
  {
   "cell_type": "markdown",
   "metadata": {},
   "source": [
    "Now lets create a bar graph that shows how many items are in the McDonalds menu when grouped by category. We will used the `.value_counts()` function to help us count the number of items within each category."
   ]
  },
  {
   "cell_type": "code",
   "execution_count": null,
   "metadata": {
    "id": "VKZxI5pUeamh"
   },
   "outputs": [],
   "source": [
    "#How many items in each category\n",
    "\n",
    "plt.title(\"Number of Items in Each Category\")\n",
    "plt.ylabel(\"Categories\")\n",
    "plt.xlabel(\"Number of Items\")\n",
    "\n",
    "mcdonalds.loc[:, \"Category\"].value_counts().plot.barh(color = \"pink\")\n",
    "plt.grid()\n",
    "plt.show()"
   ]
  },
  {
   "cell_type": "markdown",
   "metadata": {},
   "source": [
    "##### ==================================================================================================\n",
    "\n",
    "Now let us utilize a pie chart using the McDonalds dataset. Assume we would like to know what the average calories of the items on their entire menu grouped by category by using the `.mean()` and `.groupby()` functions."
   ]
  },
  {
   "cell_type": "code",
   "execution_count": null,
   "metadata": {
    "id": "kP4IYjsjeamh"
   },
   "outputs": [],
   "source": [
    "#average calories by category\n",
    "mean_calories = mcdonalds.groupby(\"Category\")['Calories'].mean();\n",
    "mean_calories"
   ]
  },
  {
   "cell_type": "markdown",
   "metadata": {},
   "source": [
    "Now we will show the average calories of each category on the McDonalds menu as a percentage onto a pie chart. The ordering of your label names are important so you must be careful. A way to avoid manually typing out all the label names in the correct order is to apply the `.keys()` function to the series `mean_calories` to extract the label names and apply the `.to_list()` function to convert it into a list as a parameter for our pie chart."
   ]
  },
  {
   "cell_type": "code",
   "execution_count": null,
   "metadata": {
    "id": "IDfYm0dzeami"
   },
   "outputs": [],
   "source": [
    "plt.title(\"Number of Items in Each Category by %\")\n",
    "\n",
    "category = ['Beef & Pork', \n",
    "            'Beverages', \n",
    "            'Breakfast', \n",
    "            'Chicken & Fish', \n",
    "            'Coffee & Tea', \n",
    "            'Desserts', \n",
    "            'Salads', \n",
    "            'Smoothies & Shakes', \n",
    "            'Snacks & Sides']\n",
    "\n",
    "#category = mean_calories.keys().to_list()\n",
    "\n",
    "plt.pie(mean_calories, labels = category, autopct='%0.1f%%')\n",
    "\n",
    "plt.pie(mean_calories, autopct='%0.1f%%')\n",
    "plt.show()"
   ]
  },
  {
   "cell_type": "markdown",
   "metadata": {
    "id": "rE0IMoLSeami"
   },
   "source": [
    "##### ==================================================================================================\n",
    "\n",
    "Now suppose we would like to see the relationship between Calories and the Calories strictly from fat of each item on the menu using a scatter plot."
   ]
  },
  {
   "cell_type": "code",
   "execution_count": null,
   "metadata": {
    "id": "9jWU1Kqreamj"
   },
   "outputs": [],
   "source": [
    "plt.scatter(mcdonalds['Calories'], mcdonalds['Calories from Fat'], marker = '.', color = 'skyblue')\n",
    "\n",
    "plt.title('Calories vs Calories from Fat')\n",
    "plt.xlabel('Calories')\n",
    "plt.ylabel('Calories from Fat')\n",
    "plt.grid()\n",
    "plt.show()"
   ]
  },
  {
   "cell_type": "markdown",
   "metadata": {
    "id": "tUM2a3uVeamj"
   },
   "source": [
    "##### ==================================================================================================\n",
    "Now lets load in our dataset `cars4sale.csv` and call it `cars`. We want to now create a histogram of the dataset that shows the number of cars sold group by the year the car was manufactured."
   ]
  },
  {
   "cell_type": "code",
   "execution_count": null,
   "metadata": {
    "id": "1R_Utmh5eamj"
   },
   "outputs": [],
   "source": [
    "cars = pd.read_csv('cars4sale.csv')\n",
    "cars.head()"
   ]
  },
  {
   "cell_type": "code",
   "execution_count": null,
   "metadata": {
    "id": "Qsgu03paeamj"
   },
   "outputs": [],
   "source": [
    "plt.title(\"Number of Cars (by Year Manufactured) being Sold\")\n",
    "plt.ylabel(\"Number of Cars\")\n",
    "plt.xlabel(\"Year Manufactured\")\n",
    "\n",
    "plt.hist(cars['Year'], bins = list(range(2000,2022)), color = \"lightgreen\", edgecolor = 'black')\n",
    "plt.grid()\n",
    "plt.show()"
   ]
  },
  {
   "cell_type": "markdown",
   "metadata": {
    "id": "rkhzOJx_eamk"
   },
   "source": [
    "##### ==================================================================================================\n",
    "## Summary\n",
    "\n",
    "- Bar graphs compare values that are independant of each other.\n",
    "- Pie charts divide the whole entity into different proportional parts.\n",
    "- Line graphs show how a value can change over time.\n",
    "- Scatter plots show the collection of ordered pairs on a cartesian plane.\n",
    "- Histograms summarize data that are measured on an interval.\n",
    "\n",
    "##### =================================================================================================="
   ]
  },
  {
   "cell_type": "markdown",
   "metadata": {
    "id": "7BqCIphEeamk"
   },
   "source": [
    "### Excercise 1:\n",
    "Create a scatter plot using the `cars` dataset with `Mileage` being the x-axis and `Price (USD)` being the y-axis. Be sure to give the plot the title of `Mileage vs 'Price (USD)` and properly label the x and y axis with `Mileage` and `Price (USD)` respectively."
   ]
  },
  {
   "cell_type": "code",
   "execution_count": null,
   "metadata": {
    "id": "03TKJaOceamk"
   },
   "outputs": [],
   "source": [
    "# Write your code here"
   ]
  },
  {
   "cell_type": "markdown",
   "metadata": {
    "id": "k2GZyIaqeamk"
   },
   "source": [
    "##### ==================================================================================================\n",
    "### Excercise 2:\n",
    "Create a pie chart using the `cars` dataset to show the ratio of used cars vs new cars using the `Used/New` column of the dataset. Properly label the chart with a section for `Used` and `Manufacturer Certified`. Name the title `Used and Manufacturer Certified Cars for Sale`."
   ]
  },
  {
   "cell_type": "code",
   "execution_count": null,
   "metadata": {
    "id": "fLTvQPfceamk"
   },
   "outputs": [],
   "source": [
    "# Write your code here"
   ]
  },
  {
   "cell_type": "markdown",
   "metadata": {
    "id": "N4HIpEDJeaml"
   },
   "source": [
    "##### ==================================================================================================\n",
    "### Excercise 3:\n",
    "\n",
    "Create a bar graph using the `cars` dataset to show the number of cars sorted by their drivetrain type by using `Drivetrain Type`. Be sure to label the x and y axis with `Frequency` and `Drivetrain Type` respectively. Name the title `Number of Drivetrain Types`."
   ]
  },
  {
   "cell_type": "code",
   "execution_count": null,
   "metadata": {
    "id": "S8xz_JuEeaml"
   },
   "outputs": [],
   "source": [
    "# Write your code here"
   ]
  },
  {
   "cell_type": "markdown",
   "metadata": {
    "id": "aKRzWfa3eaml"
   },
   "source": [
    "##### ==================================================================================================\n",
    "### Excercise 4:\n",
    "\n",
    "Create a histogram using the `mcdonalds` dataset to show the frequency of items on the mcdonalds menu categorized by their calorie range using `Calories`. Be sure to label the x and y axis as `Calories` and `Frequency` respectively. Name the title `Number of McDonalds Menu Items by Calories`."
   ]
  },
  {
   "cell_type": "code",
   "execution_count": null,
   "metadata": {
    "id": "dO4dHo-Seaml"
   },
   "outputs": [],
   "source": [
    "# Write your code here"
   ]
  },
  {
   "cell_type": "markdown",
   "metadata": {
    "id": "7YKPr7zWeaml"
   },
   "source": [
    "##### ==================================================================================================\n",
    "### Excercise 5:\n",
    "\n",
    "Load in the `target.csv` dataset and call it `target`. Then create a line graph using the 2019-2022 Target Corporation's closing stock prices using the `target` dataset where `Close` represents the closing stock price for that specific date and `Date` to represent the date. Be sure to label your x and y axis as `Data` and `Dollar (USD)` respectively. Name the title `Target Corporation Stocks 2019-2022`."
   ]
  },
  {
   "cell_type": "code",
   "execution_count": null,
   "metadata": {
    "id": "SiUIGsUUeaml"
   },
   "outputs": [],
   "source": [
    "# Write your code here"
   ]
  }
 ],
 "metadata": {
  "colab": {
   "provenance": []
  },
  "kernelspec": {
   "display_name": "Python 3",
   "language": "python",
   "name": "python3"
  },
  "language_info": {
   "codemirror_mode": {
    "name": "ipython",
    "version": 3
   },
   "file_extension": ".py",
   "mimetype": "text/x-python",
   "name": "python",
   "nbconvert_exporter": "python",
   "pygments_lexer": "ipython3",
   "version": "3.8.5"
  }
 },
 "nbformat": 4,
 "nbformat_minor": 1
}
